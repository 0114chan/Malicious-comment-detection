import torch.nn as nn
import torch.optim as optim

class RNN(nn.Module):
    def __init__(self, input_dim, embedding_dim, hidden_dim, output_dim):
        super().__init__()
        self.embedding = nn.Embedding(input_dim, embedding_dim)
        self.rnn = nn.RNN(embedding_dim, hidden_dim)
        self.fc = nn.Linear(hidden_dim, output_dim)
        
    def forward(self, text):
        embedded = self.embedding(text)
        output, hidden = self.rnn(embedded)
        assert torch.equal(output[-1,:,:], hidden.squeeze(0))
        
        return self.fc(hidden.squeeze(0))

INPUT_DIM = len(TEXT.vocab)
EMBEDDING_DIM = 100
HIDDEN_DIM = 256
OUTPUT_DIM = 1

model = RNN(INPUT_DIM, EMBEDDING_DIM, HIDDEN_DIM, OUTPUT_DIM)

optimizer = optim.SGD(model.parameters(), lr=1e-3)
criterion = nn.BCEWithLogitsLoss()
model = model.to(device)
criterion = criterion.to(device)

def binary_accuracy(preds,y):
    rounded_preds = torch.round(torch.sigmoid(preds))
    correct = (rounded_preds == y).float()
    acc = correct.sum() / len(correct)
    return acc

from tqdm import tqdm

def train(model, iterator, optimizer, criterion):
    epoch_loss = 0
    epoch_acc = 0
    model.train() # 이 모델은 상관없음
    
    for batch in tqdm(iterator):
        optimizer.zero_grad()
        predictions = model(batch.comment).squeeze(1)
        loss = criterion(predictions, batch.toxicity)
        acc = binary_accuracy(predictions, batch.toxicity)

        loss.backward()
        optimizer.step()
        
        epoch_loss += loss.item() # tensor에 item()을 취하면 value를 반환
        epoch_acc += acc.item()
        
    return epoch_loss / len(iterator), epoch_acc / len(iterator)

from sklearn.metrics import f1_score, roc_auc_score

def evaluate(model, iterator, criterion):
    epoch_loss = 0
    epoch_acc = 0
    model.eval()
    
    all_preds = []
    all_y = []
    
    with torch.no_grad():
        for batch in iterator:
            predictions = model(batch.comment).squeeze(1)
            loss = criterion(predictions, batch.toxicity)

            acc = binary_accuracy(predictions, batch.toxicity)

            epoch_loss += loss.item()
            epoch_acc += acc.item()

            all_preds.append(predictions)
            all_y.append(batch.toxicity)

    all_preds = torch.cat(all_preds)
    all_y = torch.cat(all_y)

    rounded_preds = torch.round(torch.sigmoid(all_preds))
    
    f1 = f1_score(all_y.cpu(), rounded_preds.cpu())
    roc_auc = roc_auc_score(all_y.cpu(), all_preds.cpu())
    print(f'F1 Score : {f1}')
    print(f'ROC AUC Score : {roc_auc}')
    return epoch_loss / len(iterator), epoch_acc / len(iterator)

import time

def epoch_time(start_time, end_time):
    elapsed_time = end_time - start_time
    elapsed_mins = int(elapsed_time / 60)
    elapsed_secs = int(elapsed_time - (elapsed_mins * 60))
    return elapsed_mins, elapsed_secs

N_EPOCHS = 5
best_valid_loss = float('inf')

for epoch in range(N_EPOCHS):
    start_time = time.time()
    
    train_loss, train_acc = train(model, train_iterator, optimizer, criterion)
    valid_loss, valid_acc = evaluate(model, valid_iterator, criterion)
    
    end_time = time.time()
    epoch_mins, epoch_secs = epoch_time(start_time, end_time)
    
    if valid_loss < best_valid_loss:
        best_valid_loss = valid_loss
        torch.save(model.state_dict(), 'tut1-model.pt')
        
    print(f'Epoch: {epoch+1:02} | Epoch Time: {epoch_mins}m {epoch_secs}s')
    print(f'\t Train Loss: {train_loss:.3f} | Train Acc: {train_acc*100:0.2f}%')
    print(f'\t  Val. Loss: {valid_loss:.3f} |  Val. Acc: {valid_acc*100:0.2f}%')

model.load_state_dict(torch.load('tut1-model.pt'))
test_loss, test_acc = evaluate(model, test_iterator, criterion)
print(f'Test Loss: {test_loss:.3f} | Test Acc: {test_acc*100:.2f}%')

fields = {'comment': ('comment',TEXT)}

test_data = data.TabularDataset.splits(
                            path = './',
                            train = 'test_for_inference.csv',
                            format = 'csv',
                            fields = fields,  
)[0]

BATCH_SIZE = 1

device = torch.device('cuda' if torch.cuda.is_available() else 'cpu')

test_iterator, train_iterator, valid_iterator = data.BucketIterator.splits(
    (test_data, train_data, valid_data), 
    batch_size = BATCH_SIZE,
    device = device,
    sort_key = None,
    sort_within_batch = False,
)

preds_list = []
probs_list = []

for batch in test_iterator:
    predictions = model(batch.comment).squeeze(1)
    probabilities = torch.sigmoid(predictions)
    rounded_preds = torch.round(probabilities)

    preds_list.extend(rounded_preds.cpu().detach().numpy())
    probs_list.extend(probabilities.cpu().detach().numpy())

df = pd.DataFrame({
    'pred': preds_list,
    'probability': probs_list
})

df.to_csv("submission.csv", index=False)
df.head()
